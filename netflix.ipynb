{
 "cells": [
  {
   "cell_type": "code",
   "execution_count": 274,
   "metadata": {
    "pycharm": {
     "name": "#%%\n"
    }
   },
   "outputs": [],
   "source": [
    "import numpy as np\n",
    "import pandas as pd\n",
    "from IPython.display import display\n",
    "from dataclasses import dataclass"
   ]
  },
  {
   "cell_type": "code",
   "execution_count": 275,
   "metadata": {
    "pycharm": {
     "name": "#%%\n"
    }
   },
   "outputs": [],
   "source": [
    "df = None"
   ]
  },
  {
   "cell_type": "code",
   "execution_count": 276,
   "metadata": {
    "pycharm": {
     "name": "#%%\n"
    }
   },
   "outputs": [],
   "source": [
    "minVotes = None\n",
    "\n",
    "def readFile(path):\n",
    "    global df\n",
    "    df = pd.read_csv(path)\n",
    "\n",
    "def cleanDataset():\n",
    "    global df\n",
    "    df = df.drop(['year'], axis=1)\n",
    "    df = df.drop(['certificate'], axis=1)\n",
    "    df = df.drop(['duration'], axis=1)\n",
    "    df = df.drop(['description'], axis=1)\n",
    "    df = df.drop(['stars'], axis=1)\n",
    "    df = df.drop_duplicates(subset=['title'])\n",
    "    df['votes']=df['votes'].str.replace(',','').astype(float)\n",
    "    df=df.fillna(0)\n",
    "\n",
    "def filterGenre(genre):\n",
    "    global df\n",
    "    df = df[df['genre'].str.contains(genre, case=False).fillna(False)]\n",
    "\n",
    "def threshVotes(thrs):\n",
    "    global df\n",
    "    global minVotes\n",
    "    minVotes = np.quantile(df['votes'] , thrs)\n",
    "    df = df.drop(df[df.votes<minVotes].index)\n",
    "\n",
    "def weightedAvgScore():\n",
    "    global df\n",
    "    weightedAvg = []\n",
    "    mean = df['rating'].mean()\n",
    "    df = df.reset_index(drop=True)\n",
    "    for i in range(0, len(df['rating'])):\n",
    "        res = (df['votes'][i]/(df['votes'][i]+minVotes)*df['rating'][i]) + (minVotes/(df['votes'][i]+minVotes))*mean\n",
    "        weightedAvg.append(res)\n",
    "    df[\"weightedAvg\"]=weightedAvg\n",
    "\n",
    "def sortNscores(n):\n",
    "    sort = df.sort_values('weightedAvg', ascending=False).head(n)\n",
    "    display(sort)\n",
    "\n",
    "def runRecommenderSystem(genre, votesThrs, numberofReturnedData):\n",
    "    readFile(\"NetflixDatasetMovies.csv\")\n",
    "    cleanDataset()\n",
    "    filterGenre(genre)\n",
    "    threshVotes(votesThrs)\n",
    "    weightedAvgScore()\n",
    "    sortNscores(numberofReturnedData)"
   ]
  },
  {
   "cell_type": "code",
   "execution_count": 277,
   "outputs": [],
   "source": [
    "#runRecommenderSystem('comedy', .75, 20)\n"
   ],
   "metadata": {
    "collapsed": false,
    "pycharm": {
     "name": "#%%\n"
    }
   }
  },
  {
   "cell_type": "code",
   "execution_count": 278,
   "outputs": [],
   "source": [
    "@dataclass\n",
    "class NetflixTopRecommenderSystem:\n",
    "    dataPath: str\n",
    "#    path: str\n",
    "    genre: str\n",
    "    thrs: float\n",
    "    topN: int\n",
    "    # df: str\n",
    "    # minVotes: float\n",
    "\n",
    "    def readFile(self):\n",
    "        self.df = pd.read_csv(self.dataPath)\n",
    "\n",
    "    def cleanDataset(self):\n",
    "\n",
    "        self.df = self.df.drop(['year'], axis=1)\n",
    "        self.df = self.df.drop(['certificate'], axis=1)\n",
    "        self.df = self.df.drop(['duration'], axis=1)\n",
    "        self.df = self.df.drop(['description'], axis=1)\n",
    "        self.df = self.df.drop(['stars'], axis=1)\n",
    "        self.df = self.df.drop_duplicates(subset=['title'])\n",
    "        self.df['votes']=self.df['votes'].str.replace(',','').astype(float)\n",
    "        self.df=self.df.fillna(0)\n",
    "\n",
    "    def filterGenre(self):\n",
    "        self.df = self.df[self.df['genre'].str.contains(self.genre, case=False).fillna(False)]\n",
    "\n",
    "    def threshVotes(self):\n",
    "        minVotes = np.quantile(self.df['votes'] , self.thrs)\n",
    "        self.df = self.df.drop(self.df[df.votes<minVotes].index)\n",
    "\n",
    "    def weightedAvgScore(self):\n",
    "        weightedAvg = []\n",
    "        mean = self.df['rating'].mean()\n",
    "        self.df = self.df.reset_index(drop=True)\n",
    "        for i in range(0, len(self.df['rating'])):\n",
    "            res = (self.df['votes'][i]/(self.df['votes'][i]+minVotes)*self.df['rating'][i]) + (minVotes/(self.df['votes'][i]+minVotes))*mean\n",
    "            weightedAvg.append(res)\n",
    "        self.df[\"weightedAvg\"]=weightedAvg\n",
    "\n",
    "    def sortNscores(self):\n",
    "        sort = self.df.sort_values('weightedAvg', ascending=False).head(self.topN)\n",
    "        display(sort)\n",
    "\n",
    "    def runRecommenderSystem(self):\n",
    "        self.readFile()\n",
    "        self.cleanDataset()\n",
    "        self.filterGenre()\n",
    "        self.threshVotes()\n",
    "        self.weightedAvgScore()\n",
    "        self.sortNscores()"
   ],
   "metadata": {
    "collapsed": false,
    "pycharm": {
     "name": "#%%\n"
    }
   }
  },
  {
   "cell_type": "code",
   "execution_count": 279,
   "outputs": [
    {
     "ename": "AttributeError",
     "evalue": "'NoneType' object has no attribute 'votes'",
     "output_type": "error",
     "traceback": [
      "\u001B[1;31m---------------------------------------------------------------------------\u001B[0m",
      "\u001B[1;31mAttributeError\u001B[0m                            Traceback (most recent call last)",
      "Cell \u001B[1;32mIn [279], line 6\u001B[0m\n\u001B[0;32m      2\u001B[0m best5Comedy \u001B[38;5;241m=\u001B[39m NetflixTopRecommenderSystem(path, \u001B[38;5;124m\"\u001B[39m\u001B[38;5;124mComedy\u001B[39m\u001B[38;5;124m\"\u001B[39m, \u001B[38;5;241m0.8\u001B[39m, \u001B[38;5;241m20\u001B[39m)\n\u001B[0;32m      3\u001B[0m \u001B[38;5;66;03m# best5Comedy.readFile()\u001B[39;00m\n\u001B[0;32m      4\u001B[0m \u001B[38;5;66;03m# best5Comedy.cleanDataset()\u001B[39;00m\n\u001B[0;32m      5\u001B[0m \u001B[38;5;66;03m# best5Comedy.df\u001B[39;00m\n\u001B[1;32m----> 6\u001B[0m \u001B[43mbest5Comedy\u001B[49m\u001B[38;5;241;43m.\u001B[39;49m\u001B[43mrunRecommenderSystem\u001B[49m\u001B[43m(\u001B[49m\u001B[43m)\u001B[49m\n",
      "Cell \u001B[1;32mIn [278], line 49\u001B[0m, in \u001B[0;36mNetflixTopRecommenderSystem.runRecommenderSystem\u001B[1;34m(self)\u001B[0m\n\u001B[0;32m     47\u001B[0m \u001B[38;5;28mself\u001B[39m\u001B[38;5;241m.\u001B[39mcleanDataset()\n\u001B[0;32m     48\u001B[0m \u001B[38;5;28mself\u001B[39m\u001B[38;5;241m.\u001B[39mfilterGenre()\n\u001B[1;32m---> 49\u001B[0m \u001B[38;5;28;43mself\u001B[39;49m\u001B[38;5;241;43m.\u001B[39;49m\u001B[43mthreshVotes\u001B[49m\u001B[43m(\u001B[49m\u001B[43m)\u001B[49m\n\u001B[0;32m     50\u001B[0m \u001B[38;5;28mself\u001B[39m\u001B[38;5;241m.\u001B[39mweightedAvgScore()\n\u001B[0;32m     51\u001B[0m \u001B[38;5;28mself\u001B[39m\u001B[38;5;241m.\u001B[39msortNscores()\n",
      "Cell \u001B[1;32mIn [278], line 30\u001B[0m, in \u001B[0;36mNetflixTopRecommenderSystem.threshVotes\u001B[1;34m(self)\u001B[0m\n\u001B[0;32m     28\u001B[0m \u001B[38;5;28;01mdef\u001B[39;00m \u001B[38;5;21mthreshVotes\u001B[39m(\u001B[38;5;28mself\u001B[39m):\n\u001B[0;32m     29\u001B[0m     minVotes \u001B[38;5;241m=\u001B[39m np\u001B[38;5;241m.\u001B[39mquantile(\u001B[38;5;28mself\u001B[39m\u001B[38;5;241m.\u001B[39mdf[\u001B[38;5;124m'\u001B[39m\u001B[38;5;124mvotes\u001B[39m\u001B[38;5;124m'\u001B[39m] , \u001B[38;5;28mself\u001B[39m\u001B[38;5;241m.\u001B[39mthrs)\n\u001B[1;32m---> 30\u001B[0m     \u001B[38;5;28mself\u001B[39m\u001B[38;5;241m.\u001B[39mdf \u001B[38;5;241m=\u001B[39m \u001B[38;5;28mself\u001B[39m\u001B[38;5;241m.\u001B[39mdf\u001B[38;5;241m.\u001B[39mdrop(\u001B[38;5;28mself\u001B[39m\u001B[38;5;241m.\u001B[39mdf[\u001B[43mdf\u001B[49m\u001B[38;5;241;43m.\u001B[39;49m\u001B[43mvotes\u001B[49m\u001B[38;5;241m<\u001B[39mminVotes]\u001B[38;5;241m.\u001B[39mindex)\n",
      "\u001B[1;31mAttributeError\u001B[0m: 'NoneType' object has no attribute 'votes'"
     ]
    }
   ],
   "source": [
    "path = \"NetflixDatasetMovies.csv\"\n",
    "best5Comedy = NetflixTopRecommenderSystem(path, \"Comedy\", 0.8, 20)\n",
    "# best5Comedy.readFile()\n",
    "# best5Comedy.cleanDataset()\n",
    "# best5Comedy.df\n",
    "best5Comedy.runRecommenderSystem()"
   ],
   "metadata": {
    "collapsed": false,
    "pycharm": {
     "name": "#%%\n"
    }
   }
  }
 ],
 "metadata": {
  "kernelspec": {
   "display_name": "Python 3",
   "language": "python",
   "name": "python3"
  },
  "language_info": {
   "codemirror_mode": {
    "name": "ipython",
    "version": 3
   },
   "file_extension": ".py",
   "mimetype": "text/x-python",
   "name": "python",
   "nbconvert_exporter": "python",
   "pygments_lexer": "ipython3",
   "version": "3.9.0"
  },
  "orig_nbformat": 4
 },
 "nbformat": 4,
 "nbformat_minor": 2
}