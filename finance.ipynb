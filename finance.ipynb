{
 "cells": [
  {
   "cell_type": "code",
   "execution_count": null,
   "metadata": {},
   "outputs": [],
   "source": [
    "import pandas as pd\n",
    "import yfinance as yf\n",
    "import datetime\n",
    "import requests\n",
    "\n",
    "# nvda = yf.Ticker(\"NVDA\")\n",
    "# stockinfo = nvda.info\n",
    "df = pd.DataFrame()\n",
    "\n",
    "tickers = ['AMZN', 'NEE', 'CSCO', 'DMTK']\n",
    "for ticker in tickers:\n",
    "    data = yf.Ticker(ticker)\n",
    "    price = data.info['currentPrice']\n",
    "\n",
    "    new_row = {\n",
    "        \"ticker\": ticker,\n",
    "        \"price\": price\n",
    "    }\n",
    "\n",
    "    df = df.append(new_row, ignore_index=True)\n",
    "\n",
    "print(df)"
   ]
  }
 ],
 "metadata": {
  "language_info": {
   "name": "python"
  },
  "orig_nbformat": 4
 },
 "nbformat": 4,
 "nbformat_minor": 2
}
