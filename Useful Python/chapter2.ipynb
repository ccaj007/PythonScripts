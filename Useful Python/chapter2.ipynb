{
 "cells": [
  {
   "cell_type": "code",
   "execution_count": 21,
   "metadata": {},
   "outputs": [
    {
     "name": "stdout",
     "output_type": "stream",
     "text": [
      "39506706-33112830649a49b95796768a6\n"
     ]
    }
   ],
   "source": [
    "import requests\n",
    "\n",
    "import keys\n",
    "PIXABAY_API_KEY = keys.PIXABAY_API\n",
    "\n",
    "base_url = \"https://pixabay.com/api/\"\n",
    "base_params = {\n",
    "    \"key\": PIXABAY_API_KEY,\n",
    "    \"q\": \"fruit\",\n",
    "    \"image_type\": \"photo\",\n",
    "    \"category\": \"food\",\n",
    "    \"safesearch\": \"true\"\n",
    "}"
   ]
  },
  {
   "cell_type": "code",
   "execution_count": 22,
   "metadata": {},
   "outputs": [],
   "source": [
    "response = requests.get(base_url, params=base_params)\n",
    "results = response.json()"
   ]
  },
  {
   "cell_type": "code",
   "execution_count": 25,
   "metadata": {},
   "outputs": [
    {
     "name": "stdout",
     "output_type": "stream",
     "text": [
      "20\n",
      "{'id': 2277, 'pageURL': 'https://pixabay.com/photos/berries-fruits-food-blackberries-2277/', 'type': 'photo', 'tags': 'berries, beautiful wallpaper, desktop backgrounds', 'previewURL': 'https://cdn.pixabay.com/photo/2010/12/13/10/05/berries-2277_150.jpg', 'previewWidth': 150, 'previewHeight': 99, 'webformatURL': 'https://pixabay.com/get/g4d3c5799bec1bd11ad15a5268309efb5ff14d38ed75be1dc14e08ff87c7bcb81a6aee8554fc54b73a6e81f264c14f69b_640.jpg', 'webformatWidth': 640, 'webformatHeight': 426, 'largeImageURL': 'https://pixabay.com/get/gf898a5b6773eb2b56dc60511bb7bf7d0c59594405e0aad13f0ac7ef13d1a6e8873aea8d2d3e207a3905148d805fea23b_1280.jpg', 'imageWidth': 4752, 'imageHeight': 3168, 'imageSize': 2113812, 'views': 1005266, 'downloads': 546551, 'collections': 1856, 'likes': 1978, 'comments': 396, 'user_id': 14, 'user': 'PublicDomainPictures', 'userImageURL': 'https://cdn.pixabay.com/user/2012/03/08/00-13-48-597_250x250.jpg'}\n"
     ]
    }
   ],
   "source": [
    "print(len(results[\"hits\"]))\n",
    "print(results[\"hits\"][0])"
   ]
  }
 ],
 "metadata": {
  "kernelspec": {
   "display_name": "Python 3",
   "language": "python",
   "name": "python3"
  },
  "language_info": {
   "codemirror_mode": {
    "name": "ipython",
    "version": 3
   },
   "file_extension": ".py",
   "mimetype": "text/x-python",
   "name": "python",
   "nbconvert_exporter": "python",
   "pygments_lexer": "ipython3",
   "version": "3.9.0"
  },
  "orig_nbformat": 4
 },
 "nbformat": 4,
 "nbformat_minor": 2
}
