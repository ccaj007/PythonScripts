{
 "cells": [
  {
   "cell_type": "code",
   "execution_count": 1,
   "metadata": {},
   "outputs": [],
   "source": [
    "import json\n",
    "import requests\n",
    "\n",
    "url = \"https://storage.googleapis.com/thedataplace-plymouth/resources%2F7ca5c131-ba46-4133-ae6a-0dc8eb8a9281%2F040-02_location-of-libraries-2018.geojson?Expires=1694819332&GoogleAccessId=thedataplace-plymouth%40dataplace-181911.iam.gserviceaccount.com&Signature=VTNcKMeqfuKuksBYKBktnuN4iUXAPrgot9hEZfPI1fwWITfZMtmGBmqePkSUuyBjyyf0m%2FloNpjKISVaiH%2FXoQ%2B1KtX2Iip2tllznkTS54oYQfjNBocIh%2BPGcOeCJLDOfQ1kXNNQtP4Hofob6u90Ic3UKwdfftZut4u2r7SMQV%2B63ZtoP9gBBfa93JwrQM4mAeKx%2FLpY%2Bft12jhJ31LWzaC20RSoN6B8VL3TJEqHu1gG%2F3JPAwf2PoYoovtFqlwxXF2zidzpGl%2Bj0Quj9KpKpsanapdUAzZsE2cLxJkyGsN2oB1NNOIDoDCMNe2Ete69lQ1Ea3zABvsxKQEDU0vb0w%3D%3D\"\n"
   ]
  },
  {
   "cell_type": "code",
   "execution_count": 13,
   "metadata": {},
   "outputs": [
    {
     "name": "stdout",
     "output_type": "stream",
     "text": [
      "dict_keys(['type', 'name', 'crs', 'features'])\n",
      "Central Library\n"
     ]
    }
   ],
   "source": [
    "r = requests.get(url)\n",
    "library_data = r.json()\n",
    "print(library_data.keys())\n",
    "\n",
    "print(library_data[\"features\"][0][\"properties\"][\"LibraryName\"])"
   ]
  },
  {
   "cell_type": "markdown",
   "metadata": {},
   "source": []
  },
  {
   "cell_type": "code",
   "execution_count": 31,
   "metadata": {},
   "outputs": [
    {
     "name": "stdout",
     "output_type": "stream",
     "text": [
      "2023-09-16\n",
      "10-23:03\n"
     ]
    }
   ],
   "source": [
    "from datetime import datetime\n",
    "\n",
    "today = datetime.now().today().strftime(\"%Y-%m-%d\")\n",
    "print(today)\n",
    "\n",
    "time = datetime.now()\n",
    "print(time.time().strftime(\"%H-%M:%S\"))\n"
   ]
  }
 ],
 "metadata": {
  "kernelspec": {
   "display_name": "Python 3",
   "language": "python",
   "name": "python3"
  },
  "language_info": {
   "codemirror_mode": {
    "name": "ipython",
    "version": 3
   },
   "file_extension": ".py",
   "mimetype": "text/x-python",
   "name": "python",
   "nbconvert_exporter": "python",
   "pygments_lexer": "ipython3",
   "version": "3.10.7"
  },
  "orig_nbformat": 4
 },
 "nbformat": 4,
 "nbformat_minor": 2
}
