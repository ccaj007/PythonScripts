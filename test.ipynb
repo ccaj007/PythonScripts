{
 "cells": [
  {
   "cell_type": "code",
   "execution_count": 33,
   "metadata": {
    "collapsed": true,
    "pycharm": {
     "name": "#%%\n"
    }
   },
   "outputs": [],
   "source": [
    "import pandas as pd\n"
   ]
  },
  {
   "cell_type": "code",
   "execution_count": 34,
   "outputs": [
    {
     "data": {
      "text/plain": "                    title         year certificate duration  \\\n0               Cobra Kai     (2018– )       TV-14   30 min   \n1               The Crown     (2016– )       TV-MA   58 min   \n2        Better Call Saul  (2015–2022)       TV-MA   46 min   \n3           Devil in Ohio        -2022       TV-MA  356 min   \n4  Cyberpunk: Edgerunners     (2022– )       TV-MA   24 min   \n\n                          genre  rating  \\\n0         Action, Comedy, Drama     8.5   \n1     Biography, Drama, History     8.7   \n2                  Crime, Drama     8.9   \n3        Drama, Horror, Mystery     5.9   \n4  Animation, Action, Adventure     8.6   \n\n                                         description  \\\n0  Decades after their 1984 All Valley Karate Tou...   \n1  Follows the political rivalries and romance of...   \n2  The trials and tribulations of criminal lawyer...   \n3  When a psychiatrist shelters a mysterious cult...   \n4  A Street Kid trying to survive in a technology...   \n\n                                               stars    votes  \n0  ['Ralph Macchio, ', 'William Zabka, ', 'Courtn...  177,031  \n1  ['Claire Foy, ', 'Olivia Colman, ', 'Imelda St...  199,885  \n2  ['Bob Odenkirk, ', 'Rhea Seehorn, ', 'Jonathan...  501,384  \n3  ['Emily Deschanel, ', 'Sam Jaeger, ', 'Gerardo...    9,773  \n4  ['Zach Aguilar, ', 'Kenichiro Ohashi, ', 'Emi ...   15,413  ",
      "text/html": "<div>\n<style scoped>\n    .dataframe tbody tr th:only-of-type {\n        vertical-align: middle;\n    }\n\n    .dataframe tbody tr th {\n        vertical-align: top;\n    }\n\n    .dataframe thead th {\n        text-align: right;\n    }\n</style>\n<table border=\"1\" class=\"dataframe\">\n  <thead>\n    <tr style=\"text-align: right;\">\n      <th></th>\n      <th>title</th>\n      <th>year</th>\n      <th>certificate</th>\n      <th>duration</th>\n      <th>genre</th>\n      <th>rating</th>\n      <th>description</th>\n      <th>stars</th>\n      <th>votes</th>\n    </tr>\n  </thead>\n  <tbody>\n    <tr>\n      <th>0</th>\n      <td>Cobra Kai</td>\n      <td>(2018– )</td>\n      <td>TV-14</td>\n      <td>30 min</td>\n      <td>Action, Comedy, Drama</td>\n      <td>8.5</td>\n      <td>Decades after their 1984 All Valley Karate Tou...</td>\n      <td>['Ralph Macchio, ', 'William Zabka, ', 'Courtn...</td>\n      <td>177,031</td>\n    </tr>\n    <tr>\n      <th>1</th>\n      <td>The Crown</td>\n      <td>(2016– )</td>\n      <td>TV-MA</td>\n      <td>58 min</td>\n      <td>Biography, Drama, History</td>\n      <td>8.7</td>\n      <td>Follows the political rivalries and romance of...</td>\n      <td>['Claire Foy, ', 'Olivia Colman, ', 'Imelda St...</td>\n      <td>199,885</td>\n    </tr>\n    <tr>\n      <th>2</th>\n      <td>Better Call Saul</td>\n      <td>(2015–2022)</td>\n      <td>TV-MA</td>\n      <td>46 min</td>\n      <td>Crime, Drama</td>\n      <td>8.9</td>\n      <td>The trials and tribulations of criminal lawyer...</td>\n      <td>['Bob Odenkirk, ', 'Rhea Seehorn, ', 'Jonathan...</td>\n      <td>501,384</td>\n    </tr>\n    <tr>\n      <th>3</th>\n      <td>Devil in Ohio</td>\n      <td>-2022</td>\n      <td>TV-MA</td>\n      <td>356 min</td>\n      <td>Drama, Horror, Mystery</td>\n      <td>5.9</td>\n      <td>When a psychiatrist shelters a mysterious cult...</td>\n      <td>['Emily Deschanel, ', 'Sam Jaeger, ', 'Gerardo...</td>\n      <td>9,773</td>\n    </tr>\n    <tr>\n      <th>4</th>\n      <td>Cyberpunk: Edgerunners</td>\n      <td>(2022– )</td>\n      <td>TV-MA</td>\n      <td>24 min</td>\n      <td>Animation, Action, Adventure</td>\n      <td>8.6</td>\n      <td>A Street Kid trying to survive in a technology...</td>\n      <td>['Zach Aguilar, ', 'Kenichiro Ohashi, ', 'Emi ...</td>\n      <td>15,413</td>\n    </tr>\n  </tbody>\n</table>\n</div>"
     },
     "execution_count": 34,
     "metadata": {},
     "output_type": "execute_result"
    }
   ],
   "source": [
    "df = pd.read_csv('netflixdatasetmovies.csv')\n",
    "df.head()"
   ],
   "metadata": {
    "collapsed": false,
    "pycharm": {
     "name": "#%%\n"
    }
   }
  },
  {
   "cell_type": "code",
   "execution_count": 34,
   "outputs": [],
   "source": [
    "\n"
   ],
   "metadata": {
    "collapsed": false,
    "pycharm": {
     "name": "#%%\n"
    }
   }
  },
  {
   "cell_type": "code",
   "execution_count": 35,
   "outputs": [],
   "source": [
    "df = df.drop(['certificate'], axis=1)\n",
    "df = df.drop(['duration'], axis=1)"
   ],
   "metadata": {
    "collapsed": false,
    "pycharm": {
     "name": "#%%\n"
    }
   }
  },
  {
   "cell_type": "code",
   "execution_count": 36,
   "outputs": [
    {
     "data": {
      "text/plain": "                       title         year                         genre  \\\n0                  Cobra Kai     (2018– )         Action, Comedy, Drama   \n1                  The Crown     (2016– )     Biography, Drama, History   \n2           Better Call Saul  (2015–2022)                  Crime, Drama   \n3              Devil in Ohio        -2022        Drama, Horror, Mystery   \n4     Cyberpunk: Edgerunners     (2022– )  Animation, Action, Adventure   \n...                      ...          ...                           ...   \n9952          The Imperfects     (2022– )      Action, Adventure, Drama   \n9953        The Walking Dead  (2010–2022)       Drama, Horror, Thriller   \n9954               The Crown     (2016– )     Biography, Drama, History   \n9955            Supernatural  (2005–2020)        Drama, Fantasy, Horror   \n9956           Devil in Ohio        -2022        Drama, Horror, Mystery   \n\n      rating                                        description  \\\n0        8.5  Decades after their 1984 All Valley Karate Tou...   \n1        8.7  Follows the political rivalries and romance of...   \n2        8.9  The trials and tribulations of criminal lawyer...   \n3        5.9  When a psychiatrist shelters a mysterious cult...   \n4        8.6  A Street Kid trying to survive in a technology...   \n...      ...                                                ...   \n9952     6.3  After an experimental gene therapy turns them ...   \n9953     8.1  Sheriff Deputy Rick Grimes wakes up from a com...   \n9954     8.7  Follows the political rivalries and romance of...   \n9955     8.4  Two brothers follow their father's footsteps a...   \n9956     5.9  When a psychiatrist shelters a mysterious cult...   \n\n                                                  stars    votes  \n0     ['Ralph Macchio, ', 'William Zabka, ', 'Courtn...  177,031  \n1     ['Claire Foy, ', 'Olivia Colman, ', 'Imelda St...  199,885  \n2     ['Bob Odenkirk, ', 'Rhea Seehorn, ', 'Jonathan...  501,384  \n3     ['Emily Deschanel, ', 'Sam Jaeger, ', 'Gerardo...    9,773  \n4     ['Zach Aguilar, ', 'Kenichiro Ohashi, ', 'Emi ...   15,413  \n...                                                 ...      ...  \n9952  ['Morgan Taylor Campbell, ', 'Italia Ricci, ',...    3,130  \n9953  ['Andrew Lincoln, ', 'Norman Reedus, ', 'Melis...  970,067  \n9954  ['Claire Foy, ', 'Olivia Colman, ', 'Imelda St...  199,898  \n9955  ['Jared Padalecki, ', 'Jensen Ackles, ', 'Jim ...  439,601  \n9956  ['Emily Deschanel, ', 'Sam Jaeger, ', 'Gerardo...    9,786  \n\n[9957 rows x 7 columns]",
      "text/html": "<div>\n<style scoped>\n    .dataframe tbody tr th:only-of-type {\n        vertical-align: middle;\n    }\n\n    .dataframe tbody tr th {\n        vertical-align: top;\n    }\n\n    .dataframe thead th {\n        text-align: right;\n    }\n</style>\n<table border=\"1\" class=\"dataframe\">\n  <thead>\n    <tr style=\"text-align: right;\">\n      <th></th>\n      <th>title</th>\n      <th>year</th>\n      <th>genre</th>\n      <th>rating</th>\n      <th>description</th>\n      <th>stars</th>\n      <th>votes</th>\n    </tr>\n  </thead>\n  <tbody>\n    <tr>\n      <th>0</th>\n      <td>Cobra Kai</td>\n      <td>(2018– )</td>\n      <td>Action, Comedy, Drama</td>\n      <td>8.5</td>\n      <td>Decades after their 1984 All Valley Karate Tou...</td>\n      <td>['Ralph Macchio, ', 'William Zabka, ', 'Courtn...</td>\n      <td>177,031</td>\n    </tr>\n    <tr>\n      <th>1</th>\n      <td>The Crown</td>\n      <td>(2016– )</td>\n      <td>Biography, Drama, History</td>\n      <td>8.7</td>\n      <td>Follows the political rivalries and romance of...</td>\n      <td>['Claire Foy, ', 'Olivia Colman, ', 'Imelda St...</td>\n      <td>199,885</td>\n    </tr>\n    <tr>\n      <th>2</th>\n      <td>Better Call Saul</td>\n      <td>(2015–2022)</td>\n      <td>Crime, Drama</td>\n      <td>8.9</td>\n      <td>The trials and tribulations of criminal lawyer...</td>\n      <td>['Bob Odenkirk, ', 'Rhea Seehorn, ', 'Jonathan...</td>\n      <td>501,384</td>\n    </tr>\n    <tr>\n      <th>3</th>\n      <td>Devil in Ohio</td>\n      <td>-2022</td>\n      <td>Drama, Horror, Mystery</td>\n      <td>5.9</td>\n      <td>When a psychiatrist shelters a mysterious cult...</td>\n      <td>['Emily Deschanel, ', 'Sam Jaeger, ', 'Gerardo...</td>\n      <td>9,773</td>\n    </tr>\n    <tr>\n      <th>4</th>\n      <td>Cyberpunk: Edgerunners</td>\n      <td>(2022– )</td>\n      <td>Animation, Action, Adventure</td>\n      <td>8.6</td>\n      <td>A Street Kid trying to survive in a technology...</td>\n      <td>['Zach Aguilar, ', 'Kenichiro Ohashi, ', 'Emi ...</td>\n      <td>15,413</td>\n    </tr>\n    <tr>\n      <th>...</th>\n      <td>...</td>\n      <td>...</td>\n      <td>...</td>\n      <td>...</td>\n      <td>...</td>\n      <td>...</td>\n      <td>...</td>\n    </tr>\n    <tr>\n      <th>9952</th>\n      <td>The Imperfects</td>\n      <td>(2022– )</td>\n      <td>Action, Adventure, Drama</td>\n      <td>6.3</td>\n      <td>After an experimental gene therapy turns them ...</td>\n      <td>['Morgan Taylor Campbell, ', 'Italia Ricci, ',...</td>\n      <td>3,130</td>\n    </tr>\n    <tr>\n      <th>9953</th>\n      <td>The Walking Dead</td>\n      <td>(2010–2022)</td>\n      <td>Drama, Horror, Thriller</td>\n      <td>8.1</td>\n      <td>Sheriff Deputy Rick Grimes wakes up from a com...</td>\n      <td>['Andrew Lincoln, ', 'Norman Reedus, ', 'Melis...</td>\n      <td>970,067</td>\n    </tr>\n    <tr>\n      <th>9954</th>\n      <td>The Crown</td>\n      <td>(2016– )</td>\n      <td>Biography, Drama, History</td>\n      <td>8.7</td>\n      <td>Follows the political rivalries and romance of...</td>\n      <td>['Claire Foy, ', 'Olivia Colman, ', 'Imelda St...</td>\n      <td>199,898</td>\n    </tr>\n    <tr>\n      <th>9955</th>\n      <td>Supernatural</td>\n      <td>(2005–2020)</td>\n      <td>Drama, Fantasy, Horror</td>\n      <td>8.4</td>\n      <td>Two brothers follow their father's footsteps a...</td>\n      <td>['Jared Padalecki, ', 'Jensen Ackles, ', 'Jim ...</td>\n      <td>439,601</td>\n    </tr>\n    <tr>\n      <th>9956</th>\n      <td>Devil in Ohio</td>\n      <td>-2022</td>\n      <td>Drama, Horror, Mystery</td>\n      <td>5.9</td>\n      <td>When a psychiatrist shelters a mysterious cult...</td>\n      <td>['Emily Deschanel, ', 'Sam Jaeger, ', 'Gerardo...</td>\n      <td>9,786</td>\n    </tr>\n  </tbody>\n</table>\n<p>9957 rows × 7 columns</p>\n</div>"
     },
     "execution_count": 36,
     "metadata": {},
     "output_type": "execute_result"
    }
   ],
   "source": [
    "df"
   ],
   "metadata": {
    "collapsed": false,
    "pycharm": {
     "name": "#%%\n"
    }
   }
  }
 ],
 "metadata": {
  "kernelspec": {
   "display_name": "Python 3",
   "language": "python",
   "name": "python3"
  },
  "language_info": {
   "codemirror_mode": {
    "name": "ipython",
    "version": 2
   },
   "file_extension": ".py",
   "mimetype": "text/x-python",
   "name": "python",
   "nbconvert_exporter": "python",
   "pygments_lexer": "ipython2",
   "version": "2.7.6"
  }
 },
 "nbformat": 4,
 "nbformat_minor": 0
}