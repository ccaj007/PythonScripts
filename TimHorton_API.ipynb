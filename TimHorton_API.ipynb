{
 "cells": [
  {
   "cell_type": "code",
   "execution_count": 1,
   "metadata": {},
   "outputs": [],
   "source": [
    "import requests\n",
    "import json\n",
    "\n",
    "URL = \"https://careers.timhortons.com/api/locations?location=42.90219,-78.876813%3C=5mi\"\n",
    "\n"
   ]
  },
  {
   "cell_type": "code",
   "execution_count": 4,
   "metadata": {},
   "outputs": [
    {
     "data": {
      "text/plain": [
       "'818 Ellicott Street'"
      ]
     },
     "execution_count": 4,
     "metadata": {},
     "output_type": "execute_result"
    }
   ],
   "source": [
    "r = requests.get(URL)\n",
    "results = r.json()\n",
    "\n",
    "results[1][\"address\"]\n",
    "\n"
   ]
  },
  {
   "cell_type": "code",
   "execution_count": 29,
   "metadata": {},
   "outputs": [
    {
     "name": "stdout",
     "output_type": "stream",
     "text": [
      "['d:\\\\repos\\\\PythonScripts', 'c:\\\\Users\\\\Craig\\\\AppData\\\\Local\\\\Programs\\\\Python\\\\Python310\\\\python310.zip', 'c:\\\\Users\\\\Craig\\\\AppData\\\\Local\\\\Programs\\\\Python\\\\Python310\\\\DLLs', 'c:\\\\Users\\\\Craig\\\\AppData\\\\Local\\\\Programs\\\\Python\\\\Python310\\\\lib', 'c:\\\\Users\\\\Craig\\\\AppData\\\\Local\\\\Programs\\\\Python\\\\Python310', '', 'c:\\\\Users\\\\Craig\\\\AppData\\\\Local\\\\Programs\\\\Python\\\\Python310\\\\lib\\\\site-packages', 'c:\\\\Users\\\\Craig\\\\AppData\\\\Local\\\\Programs\\\\Python\\\\Python310\\\\lib\\\\site-packages\\\\win32', 'c:\\\\Users\\\\Craig\\\\AppData\\\\Local\\\\Programs\\\\Python\\\\Python310\\\\lib\\\\site-packages\\\\win32\\\\lib', 'c:\\\\Users\\\\Craig\\\\AppData\\\\Local\\\\Programs\\\\Python\\\\Python310\\\\lib\\\\site-packages\\\\Pythonwin', 'd:\\\\\\\\repos', 'd:\\\\\\\\repos', 'd:\\\\\\\\repos', 'd:\\\\\\\\repos', 'd:\\\\\\\\repos', 'd:\\\\\\\\repos', 'd:\\\\\\\\repos', 'd:\\\\\\\\repos', 'd:\\\\\\\\repos', 'd:\\\\\\\\repos', 'd:\\\\\\\\repos', 'd:\\\\\\\\repos', 'd:\\\\\\\\repos', 'd:\\\\\\\\repos', 'd:\\\\\\\\repos']\n"
     ]
    },
    {
     "ename": "ImportError",
     "evalue": "cannot import name 'TEST' from 'keys' (d:\\\\repos\\keys.py)",
     "output_type": "error",
     "traceback": [
      "\u001b[1;31m---------------------------------------------------------------------------\u001b[0m",
      "\u001b[1;31mImportError\u001b[0m                               Traceback (most recent call last)",
      "\u001b[1;32md:\\repos\\PythonScripts\\TimHorton_API.ipynb Cell 3\u001b[0m line \u001b[0;36m5\n\u001b[0;32m      <a href='vscode-notebook-cell:/d%3A/repos/PythonScripts/TimHorton_API.ipynb#W3sZmlsZQ%3D%3D?line=2'>3</a>\u001b[0m sys\u001b[39m.\u001b[39mpath\u001b[39m.\u001b[39mappend(\u001b[39mr\u001b[39m\u001b[39m\"\u001b[39m\u001b[39md:\u001b[39m\u001b[39m\\\\\u001b[39;00m\u001b[39mrepos\u001b[39m\u001b[39m\"\u001b[39m)\n\u001b[0;32m      <a href='vscode-notebook-cell:/d%3A/repos/PythonScripts/TimHorton_API.ipynb#W3sZmlsZQ%3D%3D?line=3'>4</a>\u001b[0m \u001b[39mprint\u001b[39m(sys\u001b[39m.\u001b[39mpath)\n\u001b[1;32m----> <a href='vscode-notebook-cell:/d%3A/repos/PythonScripts/TimHorton_API.ipynb#W3sZmlsZQ%3D%3D?line=4'>5</a>\u001b[0m \u001b[39mfrom\u001b[39;00m \u001b[39mkeys\u001b[39;00m \u001b[39mimport\u001b[39;00m TEST\n\u001b[0;32m      <a href='vscode-notebook-cell:/d%3A/repos/PythonScripts/TimHorton_API.ipynb#W3sZmlsZQ%3D%3D?line=6'>7</a>\u001b[0m \u001b[39mprint\u001b[39m(keys\u001b[39m.\u001b[39mTEST)\n",
      "\u001b[1;31mImportError\u001b[0m: cannot import name 'TEST' from 'keys' (d:\\\\repos\\keys.py)"
     ]
    }
   ],
   "source": [
    "import sys\n",
    "\n",
    "sys.path.append(r\"d:\\\\repos\")\n",
    "print(sys.path)\n",
    "from keys import TEST\n",
    "\n",
    "print(keys.TEST)\n",
    "# G =  keys.GOOGLE_MAP_API\n",
    "# zipcode=\"14202\"\n",
    "\n",
    "# ZIPCODE_URL = \"http://maps.googleapis.com/maps/api/geocode/json?address={zipcode}&key={G}\"\n",
    "# r = requests.get(ZIPCODE_URL)\n",
    "# r = r.json()\n",
    "# r"
   ]
  }
 ],
 "metadata": {
  "kernelspec": {
   "display_name": "Python 3",
   "language": "python",
   "name": "python3"
  },
  "language_info": {
   "codemirror_mode": {
    "name": "ipython",
    "version": 3
   },
   "file_extension": ".py",
   "mimetype": "text/x-python",
   "name": "python",
   "nbconvert_exporter": "python",
   "pygments_lexer": "ipython3",
   "version": "3.10.7"
  },
  "orig_nbformat": 4
 },
 "nbformat": 4,
 "nbformat_minor": 2
}
